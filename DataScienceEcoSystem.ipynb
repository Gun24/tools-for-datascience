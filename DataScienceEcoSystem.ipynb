{
 "cells": [
  {
   "cell_type": "markdown",
   "id": "4c9524a1-431e-4217-a5c8-e8b8462709b6",
   "metadata": {},
   "source": [
    "# Data Science Tools and Ecosystem"
   ]
  },
  {
   "cell_type": "markdown",
   "id": "1e9bda1e-1ac0-47e7-8645-8cf5d87f1ec7",
   "metadata": {},
   "source": [
    "### In this notebook, Data Science Tools and Ecosystem are summarized."
   ]
  },
  {
   "cell_type": "markdown",
   "id": "de9ca78a-fe2b-4b8c-8702-ab54db9600ee",
   "metadata": {},
   "source": [
    "#### Some of the popular languages that Data Scientists use are:\n",
    "1. Python\n",
    "2. R\n",
    "3. Java\n",
    "4. Julia"
   ]
  },
  {
   "cell_type": "markdown",
   "id": "a189fa74-12cd-4367-b787-af589ef1d620",
   "metadata": {},
   "source": [
    "#### Some of the commonly used libraries used by Data Scientists include:\n",
    "1. Numpy\n",
    "2. Matplotlib\n",
    "3. Pandas\n",
    "4. Seaborn\n",
    "5. PyTorch"
   ]
  },
  {
   "cell_type": "markdown",
   "id": "eaf04439-da19-4d7a-82c9-b34cef5d3907",
   "metadata": {},
   "source": [
    "| Data Science Tools |\n",
    "| :---------------- |\n",
    "| Jupyter Notebook   |\n",
    "| RStudio           |\n",
    "| VS Code           |\n"
   ]
  },
  {
   "cell_type": "markdown",
   "id": "bd958a80-8d59-4aad-9a96-fb9ddd1459c6",
   "metadata": {},
   "source": [
    "### Below are a few examples of evaluating arithmetic expressions in Python"
   ]
  },
  {
   "cell_type": "code",
   "execution_count": 3,
   "id": "d46ab563-c614-4f7d-9b70-4e4403a08fd3",
   "metadata": {},
   "outputs": [
    {
     "data": {
      "text/plain": [
       "5"
      ]
     },
     "execution_count": 3,
     "metadata": {},
     "output_type": "execute_result"
    }
   ],
   "source": [
    "2+3"
   ]
  },
  {
   "cell_type": "code",
   "execution_count": 4,
   "id": "86173f39-8f95-4853-a9a7-2df88b00ebc2",
   "metadata": {},
   "outputs": [
    {
     "data": {
      "text/plain": [
       "15"
      ]
     },
     "execution_count": 4,
     "metadata": {},
     "output_type": "execute_result"
    }
   ],
   "source": [
    "6+9"
   ]
  },
  {
   "cell_type": "code",
   "execution_count": 5,
   "id": "11421825-2311-47df-a08e-2eac1a500305",
   "metadata": {},
   "outputs": [
    {
     "data": {
      "text/plain": [
       "17"
      ]
     },
     "execution_count": 5,
     "metadata": {},
     "output_type": "execute_result"
    }
   ],
   "source": [
    "# This a simple arithmetic expression to mutiply then add integers\n",
    "(3*4)+5"
   ]
  },
  {
   "cell_type": "code",
   "execution_count": 6,
   "id": "591401d1-6eb5-447c-aa1d-61497d9fe450",
   "metadata": {},
   "outputs": [
    {
     "data": {
      "text/plain": [
       "3.3333333333333335"
      ]
     },
     "execution_count": 6,
     "metadata": {},
     "output_type": "execute_result"
    }
   ],
   "source": [
    "# This will convert 200 minutes to hours by diving by 60\n",
    "200/60"
   ]
  },
  {
   "cell_type": "markdown",
   "id": "332a0cc1-a49c-4846-9cf6-f34c072aa5e5",
   "metadata": {},
   "source": [
    "**Objectives:**\n",
    "**List popular languages for Datascience**\n",
    "- python\n",
    "- julia\n",
    "- R"
   ]
  },
  {
   "cell_type": "markdown",
   "id": "4ab8984d-651e-4abe-8a6e-f1a1efd218d8",
   "metadata": {},
   "source": [
    "## Author\n",
    "Sai Ganesh K"
   ]
  },
  {
   "cell_type": "code",
   "execution_count": null,
   "id": "c01f0c14-9e76-43e5-ab4d-8355afceb6eb",
   "metadata": {},
   "outputs": [],
   "source": []
  }
 ],
 "metadata": {
  "kernelspec": {
   "display_name": "Python 3 (ipykernel)",
   "language": "python",
   "name": "python3"
  },
  "language_info": {
   "codemirror_mode": {
    "name": "ipython",
    "version": 3
   },
   "file_extension": ".py",
   "mimetype": "text/x-python",
   "name": "python",
   "nbconvert_exporter": "python",
   "pygments_lexer": "ipython3",
   "version": "3.11.4"
  }
 },
 "nbformat": 4,
 "nbformat_minor": 5
}
